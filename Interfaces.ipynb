{
  "nbformat": 4,
  "nbformat_minor": 0,
  "metadata": {
    "colab": {
      "provenance": [],
      "authorship_tag": "ABX9TyNTUVTayrs+ECoKiltLPDsn",
      "include_colab_link": true
    },
    "kernelspec": {
      "name": "python3",
      "display_name": "Python 3"
    },
    "language_info": {
      "name": "python"
    }
  },
  "cells": [
    {
      "cell_type": "markdown",
      "metadata": {
        "id": "view-in-github",
        "colab_type": "text"
      },
      "source": [
        "<a href=\"https://colab.research.google.com/github/Ian-Lohan/Python/blob/main/Interfaces.ipynb\" target=\"_parent\"><img src=\"https://colab.research.google.com/assets/colab-badge.svg\" alt=\"Open In Colab\"/></a>"
      ]
    },
    {
      "cell_type": "markdown",
      "source": [
        "As **Interfaces** são classes que possuem um conjunto de metodos não implementados para que sejam herdados por subclasses e então implementados de acordo com as especificações de cada subclasse, permitindo com que cada subclasse que herda os metodos da interface possua diferentes versões do mesmo metodo. Veja os exemplos a seguir:"
      ],
      "metadata": {
        "id": "Mb4OETV0DROv"
      }
    },
    {
      "cell_type": "code",
      "execution_count": null,
      "metadata": {
        "id": "2czjetC5Bedj",
        "colab": {
          "base_uri": "https://localhost:8080/"
        },
        "outputId": "9d24aec0-c986-424d-e3f4-ea3e8722ead2"
      },
      "outputs": [
        {
          "output_type": "stream",
          "name": "stdout",
          "text": [
            "As 4 rodas do carro estão se movendo mais rapido. O carro está acelerando.\n",
            "As 4 rodas do carro estão perdendo a velocidade. O carro está freando.\n",
            "Os farois do carro estão acesos.\n",
            "\n",
            "As 2 rodas da motocicleta estão se movendo mais rapido. A motocicleta está acelerando.\n",
            "As 2 rodas da motocicleta estão perdendo a velocidade. A motocicleta está freando.\n",
            "O farol da motocicleta está aceso.\n"
          ]
        }
      ],
      "source": [
        "class Automovel():  \n",
        "\n",
        "  def acelerar(self):        \n",
        "    raise NotImplementedError(\"Falta Implementar\")\n",
        "\n",
        "  def frear(self):        \n",
        "    raise NotImplementedError(\"Falta Implementar\")  \n",
        "\n",
        "  def acenderFarol(self):        \n",
        "    raise NotImplementedError(\"Falta Implementar\")\n",
        "\n",
        "class Carro(Automovel):\n",
        "\n",
        "  # ...    \n",
        "\n",
        "  def acelerar(self):        \n",
        "    # Codigo para acelerar o carro\n",
        "    print (\"As 4 rodas do carro estão se movendo mais rapido. O carro está acelerando.\")\n",
        "\n",
        "  def frear(self):        \n",
        "    # Codigo para frear o carro   \n",
        "    print (\"As 4 rodas do carro estão perdendo a velocidade. O carro está freando.\")\n",
        "\n",
        "  def acenderFarol(self):        \n",
        "    # Codigo para acender o farol do carro    \n",
        "    print (\"Os farois do carro estão acesos.\")\n",
        "\n",
        "  # ...\n",
        "\n",
        "class Motocicleta(Automovel):\n",
        "\n",
        "  # ...    \n",
        "\n",
        "  def acelerar(self):        \n",
        "    # Codigo para acelerar o carro\n",
        "    print (\"As 2 rodas da motocicleta estão se movendo mais rapido. A motocicleta está acelerando.\")\n",
        "\n",
        "  def frear(self):        \n",
        "    # Codigo para frear o carro   \n",
        "    print (\"As 2 rodas da motocicleta estão perdendo a velocidade. A motocicleta está freando.\")\n",
        "\n",
        "  def acenderFarol(self):        \n",
        "    # Codigo para acender o farol do carro    \n",
        "    print (\"O farol da motocicleta está aceso.\")\n",
        "\n",
        "  # ...\n",
        "  \n",
        "  carro = Carro()\n",
        "  carro.acelerar()\n",
        "  carro.frear()\n",
        "  carro.acenderFarol()\n",
        "  print (\"\")\n",
        "  motocicleta = Motocicleta()\n",
        "  motocicleta.acelerar()\n",
        "  motocicleta.frear()\n",
        "  motocicleta.acenderFarol()"
      ]
    },
    {
      "cell_type": "markdown",
      "source": [
        "Neste exemplo, foi criada a classe Automovel, onde foram declarados 3 metodos, acelerar, frear e acenderFarol. Porém nenhum destes metodos foi implementado nesta classe. Envez disto, nós criamos 2 subclasses que herdam a superclasse Automovel, estas são as classes Carro e Moto. Embora ambos o Carro e a Moto sejam capazes de acelerar, frear e acender o farol, cada tipo de automovel funciona de forma diferente, realizando estas funções de forma unica entre si. Por isso, ao herdar os metodos, cada subclasse implementa-os de forma diferente, de acordo com suas especificações. Neste caso a classe Automovel serve como um \"contrato\", já que define os metodos que se espera de um automovel, ou seja, define apenas O QUE os automoveis devem realizar, mas não COMO eles devem realizar. Ou seja, a classe Automovel é a interface de Carro e Moto, servindo como uma forma de definir metodos comuns entre classes diferentes."
      ],
      "metadata": {
        "id": "syJlN7cvD-Z_"
      }
    },
    {
      "cell_type": "code",
      "source": [
        "class Cadastro():\n",
        "\n",
        "  def __init__(self, dados):\n",
        "    self.dados = dados\n",
        "\n",
        "  def incluir(self, dados):\n",
        "    raise NotImplementedError(\"Você precisa incluir dados!\")\n",
        "\n",
        "  def excluir(self, dados):\n",
        "    raise NotImplementedError(\"Não há dados para excluir!\")\n",
        "\n",
        "  def alterar(self, dados):\n",
        "    raise NotImplementedError(\"Não há dados para alterar!\")\n",
        "\n",
        "  def consultar(self, dados):\n",
        "    raise NotImplementedError(\"Não há dados para consultar!\")\n",
        "\n",
        "class CadastroCliente(Cadastro):\n",
        "  \n",
        "  def incluir(self):        \n",
        "    # Codigo para incluir dados do cliente\n",
        "    self.dados = input(\"Insira os dados (string): \")\n",
        "\n",
        "  def excluir(self):        \n",
        "    # Codigo para excluir dados do cliente\n",
        "    self.dados = \"\"\n",
        "\n",
        "  def alterar(self):        \n",
        "    # Codigo para alterar os dados do cliente\n",
        "    if self.dados != (\"\"):\n",
        "      self.dados = input(\"Insira os novos dados (string): \")\n",
        "    else:\n",
        "      print(\"Não há dados para serem alterados.\")\n",
        "\n",
        "  def consultar(self):\n",
        "    # Codigo para consultar os dados do cliente  \n",
        "    print (\"Os dados do cliente são: \" + self.dados) \n",
        "\n",
        "# ...\n",
        "  \n",
        "class CadastroFornecedor(Cadastro):\n",
        "  \n",
        "  def incluir(self):        \n",
        "    # Codigo para incluir dados do fornecedor\n",
        "    self.dados = int(input(\"Insira os dados (int): \"))\n",
        "\n",
        "  def excluir(self):        \n",
        "    # Codigo para excluir dados do fornecedor\n",
        "    self.dados = 0\n",
        "\n",
        "  def alterar(self):        \n",
        "    # Codigo para alterar os dados do fornecedor\n",
        "    if self.dados != (0):\n",
        "      self.dados = int(input(\"Insira os novos dados (int): \"))\n",
        "    else:\n",
        "      print(\"Não há dados para serem alterados.\")\n",
        "\n",
        "  def consultar(self):\n",
        "    # Codigo para consultar os dados do fornecedor  \n",
        "    print (\"Os dados do fornecedor são: %i\" % (self.dados)) \n",
        "\n",
        "# ...\n",
        "\n",
        "cliente = CadastroCliente(\"\")\n",
        "cliente.incluir()\n",
        "cliente.consultar()\n",
        "cliente.alterar()\n",
        "cliente.consultar()\n",
        "cliente.excluir()\n",
        "cliente.consultar()\n",
        "print(\"\")\n",
        "fornecedor = CadastroFornecedor(\"\")\n",
        "fornecedor.incluir()\n",
        "fornecedor.consultar()\n",
        "fornecedor.alterar()\n",
        "fornecedor.consultar()\n",
        "fornecedor.excluir()\n",
        "fornecedor.consultar()"
      ],
      "metadata": {
        "id": "D9eo1b1LUbek",
        "colab": {
          "base_uri": "https://localhost:8080/"
        },
        "outputId": "d1cfde18-2449-4add-c9b2-f2dd0c3cb8c2"
      },
      "execution_count": null,
      "outputs": [
        {
          "output_type": "stream",
          "name": "stdout",
          "text": [
            "Insira os dados (string): pao\n",
            "Os dados do cliente são: pao\n",
            "Insira os novos dados (string): leite\n",
            "Os dados do cliente são: leite\n",
            "Os dados do cliente são: \n",
            "\n",
            "Insira os dados (int): 10\n",
            "Os dados do fornecedor são: 10\n",
            "Insira os novos dados (int): 20\n",
            "Os dados do fornecedor são: 20\n",
            "Os dados do fornecedor são: 0\n"
          ]
        }
      ]
    },
    {
      "cell_type": "markdown",
      "source": [
        "Neste exemplo, criamos a classe Cadastro onde definimos os metodos, incluir, excluir, alterar e consultar dados. Esta classe servira de Interface para as proximos classes que a herdarem. Note como não implementamos os metodos citados, apenas os definimos. Isto é porque iremos implementar os metodos de acordo com os requesitos de cada classe que herdar esta interface. A seguir criamos as classes CadastroCliente e CadastroFornecedor, onde elas herdam a interface Cadastro e implementam seus metodos de acordo com seus requisitos, neste caso uma classe utiliza dados em formato string enquanto a outra usa em formato int. E assim seguimos o mesmo conceito para a implementação do resto das formas de cadastro."
      ],
      "metadata": {
        "id": "Q3ac3yIBWBvR"
      }
    },
    {
      "cell_type": "code",
      "source": [
        "class Abstracao:\n",
        "    pass  # conteudo imcompleto da classe\n",
        "\n",
        "class Mixin1:\n",
        "    def algo(self):\n",
        "        pass  # uma implementação\n",
        "\n",
        "class Mixin2:\n",
        "    def algo(self):\n",
        "        pass  # outra implementação\n",
        "\n",
        "class Concreta1(Abstracao, Mixin1):\n",
        "    pass\n",
        "\n",
        "class Concreta2(Abstracao, Mixin2):\n",
        "    pass"
      ],
      "metadata": {
        "id": "gtIWrWaKxWL-"
      },
      "execution_count": null,
      "outputs": []
    },
    {
      "cell_type": "code",
      "source": [
        "from abc import ABC, abstractmethod\n",
        "\n",
        "class Test(ABC):\n",
        "    def foo(self):\n",
        "        pass\n",
        "\n",
        "    @abstractmethod\n",
        "    def bar(self):\n",
        "        pass\n",
        "\n",
        "\n",
        "class Foo(Test):\n",
        "    pass\n",
        "\n",
        "\n",
        "class Bar(Test):\n",
        "    def bar(self):\n",
        "        pass\n",
        "\n",
        "\n",
        "bar = Bar()\n",
        "# foo = Foo() # descomente para ver o erro por causa do contrato\n",
        "# test = Test() # descomente para ver o erro por causa do bloqueio"
      ],
      "metadata": {
        "id": "EdWSQZALxyIi"
      },
      "execution_count": null,
      "outputs": []
    }
  ]
}